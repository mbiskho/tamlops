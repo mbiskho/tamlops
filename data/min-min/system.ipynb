{
 "cells": [
  {
   "cell_type": "code",
   "execution_count": null,
   "metadata": {},
   "outputs": [],
   "source": [
    "import matplotlib.pyplot as plt\n",
    "import pandas as pd\n",
    "\n",
    "plt.rc('font', family='serif')\n",
    "\n",
    "# Read the CSV file\n",
    "data = pd.read_csv('system-summary.csv')\n",
    "\n",
    "\n",
    "# Extracting individual columns from the DataFrame\n",
    "cpu_usage = [data['cpu_usage'][0]] + [float(val) for val in data['cpu_usage'][1:]]\n",
    "disk_utilization = [data['disk_utilization'][0]] + [float(val) for val in data['disk_utilization'][1:]]\n",
    "memory_utilization = [data['memory_utilization'][0]] + [float(val) for val in data['memory_utilization'][1:]]\n",
    "percent_disk_reads = [data['percent_disk_reads'][0]] + [float(val) for val in data['percent_disk_reads'][1:]]\n",
    "percent_disk_writes = [data['percent_disk_writes'][0]] + [float(val) for val in data['percent_disk_writes'][1:]]\n",
    "average_cpu_utilization_by_threads = [data['average_cpu_utilization_by_threads'][0]] + [float(val) for val in data['average_cpu_utilization_by_threads'][1:]]\n",
    "label = ['0s','30s','60s','90s','120','150s','180s']\n",
    "\n",
    "# Plotting utilization metrics against time\n",
    "plt.figure(figsize=(10, 6))\n",
    "\n",
    "plt.plot(label, cpu_usage, linestyle='-', color='b', label='CPU Usage')\n",
    "plt.plot(label, disk_utilization, linestyle='-', color='y', label='Disk Utilization')\n",
    "plt.plot(label, memory_utilization, linestyle='-', color='g', label='Memory Utilization')\n",
    "# plt.plot(percent_disk_reads, linestyle='-', color='m', label='Percent Disk Reads')\n",
    "# plt.plot(percent_disk_writes, linestyle='-', color='c', label='Percent Disk Writes')\n",
    "plt.plot(label, average_cpu_utilization_by_threads, linestyle='-', color='r', label='CPU Thread')\n",
    "\n",
    "# Adding labels and title\n",
    "plt.xlabel('Time')\n",
    "plt.ylabel('Value (%)')\n",
    "plt.title('System Resource Utilization')\n",
    "\n",
    "# Adding legend\n",
    "plt.legend(loc='upper center', bbox_to_anchor=(0.5, -0.1), ncol=3)\n",
    "# plt.ylim(0, 100)  # Setting y-axis limit to 100\n",
    "plt.grid(True)  # Adding grid\n",
    "\n",
    "# Display the plot\n",
    "plt.tight_layout()\n",
    "plt.show()\n"
   ]
  }
 ],
 "metadata": {
  "language_info": {
   "name": "python"
  }
 },
 "nbformat": 4,
 "nbformat_minor": 2
}
